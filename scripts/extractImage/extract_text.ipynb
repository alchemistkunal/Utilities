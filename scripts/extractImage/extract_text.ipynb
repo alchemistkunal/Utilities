{
 "cells": [
  {
   "cell_type": "code",
   "execution_count": 7,
   "metadata": {},
   "outputs": [],
   "source": [
    "import pytesseract\n",
    "from flask import Flask, jsonify, request\n",
    "import os\n",
    "import datetime\n",
    "\n",
    "from PIL import Image\n",
    "app = Flask(__name__)\n",
    "pytesseract.pytesseract.tesseract_cmd = r'C:\\Users\\alche\\AppData\\Local\\Programs\\Tesseract-OCR\\tesseract.exe'\n"
   ]
  },
  {
   "cell_type": "code",
   "execution_count": 4,
   "metadata": {},
   "outputs": [
    {
     "name": "stdout",
     "output_type": "stream",
     "text": [
      "LoggerAspect java\n",
      "\n",
      "@Aspect\n",
      "@Component\n",
      "esl faj\n",
      "public class LoggerAspect {\n",
      "@Around (“execution(public * *(..)) && within(com.hackerrank.api.*Controller*)\")\n",
      "private Object logAroundEveryPublicMethod (ProceedingJoinPoint pjp) throws Throwable {\n",
      "String builder = \"\\n- \"\n",
      "+ \"\\narguments: \"\n",
      "+ Arrays.stream(pjp.getArgs()).filter (Objects: :nonNull)\n",
      "-map (Object: : toString) .map(param -> param.length() >= 200 ? param.substring(®, 260) : param)\n",
      "-collect (Collectors. toList())\n",
      "+ \"\\nmethod signature: \"+ pjp.getSignature()\n",
      "+ \"\\n— --\\\n",
      "log. info (builder) ;\n",
      "return pjp.proceed() ;\n",
      "\n",
      "beginning around advice\n",
      "\n",
      "Which of the following is true about the LoggerAspect class's functionality?\n",
      "\n",
      "Pick ONE option\n",
      "\n",
      "| © twill log every public class method execution with parameter names.\n",
      "\n",
      "| © twill log every public class method execution with parameter values and method names.\n",
      "\n",
      "| © twill log every public class whose name ends with Controller, method execution with parameter names.\n",
      "\n",
      "name\n",
      "\n",
      "Kl tog all parameters and method names of public method execution of classes that contain Controle in th\n",
      "in the com.hackerrank.api package.\n",
      "\n",
      "\n"
     ]
    }
   ],
   "source": [
    "\n",
    "pytesseract.pytesseract.tesseract_cmd = r'C:\\Users\\alche\\AppData\\Local\\Programs\\Tesseract-OCR\\tesseract.exe'\n",
    "\n",
    "# Open the image file\n",
    "image = Image.open(r\"C:\\Users\\alche\\Pictures\\Screenshots\\Screenshot 2023-05-26 185913.png\")\n",
    "\n",
    "# Perform OCR and extract text from the image\n",
    "text = pytesseract.image_to_string(image)\n",
    "\n",
    "# Print the extracted text\n",
    "print(text)"
   ]
  },
  {
   "cell_type": "code",
   "execution_count": 6,
   "metadata": {},
   "outputs": [
    {
     "name": "stdout",
     "output_type": "stream",
     "text": [
      "Screenshot 2023-05-26 185913.png (Created: 2023-05-26 18:59:13.625699)\n",
      "Screenshot 2023-05-26 185450.png (Created: 2023-05-26 18:54:50.787942)\n",
      "Screenshot 2023-05-26 185402.png (Created: 2023-05-26 18:54:02.025622)\n",
      "Screenshot 2023-05-26 185050.png (Created: 2023-05-26 18:50:50.677011)\n",
      "Screenshot 2023-05-26 185008.png (Created: 2023-05-26 18:50:08.180906)\n",
      "Screenshot 2023-05-26 184908.png (Created: 2023-05-26 18:49:08.821353)\n",
      "Screenshot 2023-05-26 184815.png (Created: 2023-05-26 18:48:15.769796)\n",
      "Screenshot 2023-05-26 184010.png (Created: 2023-05-26 18:40:10.881876)\n",
      "Screenshot 2023-05-26 183755.png (Created: 2023-05-26 18:37:55.317307)\n",
      "Screenshot 2023-05-26 182917.png (Created: 2023-05-26 18:29:17.912819)\n",
      "Screenshot 2023-05-26 182643.png (Created: 2023-05-26 18:26:43.276484)\n",
      "Screenshot 2023-05-26 182520.png (Created: 2023-05-26 18:25:20.165015)\n",
      "Screenshot 2023-05-26 182320.png (Created: 2023-05-26 18:23:20.524972)\n",
      "Screenshot 2023-05-26 175525.png (Created: 2023-05-26 17:55:25.681091)\n",
      "Screenshot 2023-05-26 154253.png (Created: 2023-05-26 15:42:53.688811)\n"
     ]
    }
   ],
   "source": [
    "\n",
    "def extract_text(filePath: str)-> str:\n",
    "    # Open the image file\n",
    "    image = Image.open(r\"C:\\Users\\alche\\Pictures\\Screenshots\\Screenshot 2023-05-26 185913.png\")\n",
    "\n",
    "    # Perform OCR and extract text from the image\n",
    "    return pytesseract.image_to_string(image)\n",
    "\n",
    "def run_service_logic():\n",
    "    folder_path = r\"C:\\Users\\alche\\Pictures\\Screenshots\" # Replace with the actual folder path\n",
    "    # Get a list of files in the folder\n",
    "    files = os.listdir(folder_path)\n",
    "    # Sort the files based on their creation time\n",
    "    sorted_files = sorted(files, key=lambda x: os.path.getctime(os.path.join(folder_path, x)), reverse=True)\n",
    "    # Get the top 15 files\n",
    "    top_files = sorted_files[:15]\n",
    "    # Print the top 15 files\n",
    "    response = {}\n",
    "    for file_name in top_files:\n",
    "        file_path = os.path.join(folder_path, file_name)\n",
    "        creation_time = datetime.datetime.fromtimestamp(os.path.getctime(file_path))\n",
    "        # print(f\"{file_name} (Created: {creation_time})\")\n",
    "        response[file_path] = extract_text(filePath=file_path)\n",
    "\n",
    "\n",
    "@app.route('/', methods=['GET'])\n",
    "def fetch_application_list():\n",
    "    response_api = run_service_logic()\n",
    "    # response_api = ['AmEx','Amazon']\n",
    "    return response_api, 200"
   ]
  }
 ],
 "metadata": {
  "kernelspec": {
   "display_name": "Python 3",
   "language": "python",
   "name": "python3"
  },
  "language_info": {
   "codemirror_mode": {
    "name": "ipython",
    "version": 3
   },
   "file_extension": ".py",
   "mimetype": "text/x-python",
   "name": "python",
   "nbconvert_exporter": "python",
   "pygments_lexer": "ipython3",
   "version": "3.11.3"
  },
  "orig_nbformat": 4
 },
 "nbformat": 4,
 "nbformat_minor": 2
}
